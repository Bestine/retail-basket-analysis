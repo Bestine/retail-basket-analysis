{
 "cells": [
  {
   "cell_type": "markdown",
   "id": "51846259",
   "metadata": {},
   "source": [
    "# Market Basket Analysis with Apriori Algorithm"
   ]
  },
  {
   "cell_type": "code",
   "execution_count": 1,
   "id": "0bc09dbc",
   "metadata": {},
   "outputs": [],
   "source": [
    "# include a pic"
   ]
  },
  {
   "cell_type": "markdown",
   "id": "8c4826e5",
   "metadata": {},
   "source": [
    "refer [here](https://www.kaggle.com/code/ozlemilgun/market-basket-analysis-with-apriori-algorithm)"
   ]
  },
  {
   "cell_type": "markdown",
   "id": "1d848ff7",
   "metadata": {},
   "source": [
    "## Association Rule Learning (ARL)"
   ]
  },
  {
   "cell_type": "markdown",
   "id": "29fb0a4e",
   "metadata": {},
   "source": [
    "In today's world where the number of customers and transactions are increasing, it has become more valuable to create meaningful results from data and for developing marketing strategies. Revealing hidden patterns in the data in order to be able to compete better and maximize profit in the face of intense competition in the market, and to establish value-oriented long-term relationships with customers, makes a great contribution to determining marketing strategies.\n",
    "\n",
    "However, the development of rule-based strategies is no longer possible in big data world, offering the right product to the right customer at the right time; it forms the basis of cross-selling and loyalty programs within the scope of customer retention and increasing lifetime value. Therefore, it has been crucial point for companies making product offers by using these patterns of association and developing effective marketing strategies Market Basket analysis is one of the association rule applications. It allows us to predict the products that customers tend to buy in the future by developing a pattern from their past behavior and habits.\n",
    "\n",
    "There are different algorithms to be used for Association Rules Learning. One of them is the Apriori algorithm. In this project, product association analysis will be handled with **“Apriori Algorithm”** and the most suitable product offers will be made for the customer who is in the sales process, using the sales data of an e-commerce company."
   ]
  },
  {
   "cell_type": "markdown",
   "id": "cd2b48cc",
   "metadata": {},
   "source": [
    "### Dataset Story:\n",
    "• The Online Retail II data set, which includes the sales data of the UK-based online sales store, was used.\n",
    "\n",
    "• Sales data between 01/12/2009 - 09/12/2011 are included in the data set.\n",
    "\n",
    "• The product catalog of this company includes souvenirs."
   ]
  },
  {
   "cell_type": "markdown",
   "id": "a0e86790",
   "metadata": {},
   "source": [
    "### Business Problem:\n",
    "Suggesting products to users at the basket stage. In this study, we will apply Market Basket analysis using the Apriori algorithm. In this context, we will consider the work in 5 steps:\n",
    "\n",
    "1. Import Data & Data Preprocessing\n",
    "\n",
    "2. Preparing Invoice-Product Matrix fot ARL Data Structure\n",
    "\n",
    "3. Determination of Association Rules\n",
    "\n",
    "4. Suggesting appropriate product offers to customers at the basket stage\n",
    "\n",
    "5. Functionalization"
   ]
  },
  {
   "cell_type": "markdown",
   "id": "f52f0893",
   "metadata": {},
   "source": [
    "### Variables Descriptions:\n",
    "• InvoiceNo: Invoice Number -> If this code starts with C, it means that the operation has been canceled.\n",
    "\n",
    "• StockCode: Product Code -> Unique number for each product\n",
    "\n",
    "• Description: Product name\n",
    "\n",
    "• Quantity: Number of products -> how many of the products on the invoices were sold.\n",
    "\n",
    "• InvoiceDate\n",
    "\n",
    "• UnitePrice\n",
    "\n",
    "• CustomerID: Unique customer number\n",
    "\n",
    "• Country"
   ]
  },
  {
   "cell_type": "code",
   "execution_count": 2,
   "id": "32bc6816",
   "metadata": {},
   "outputs": [
    {
     "ename": "ModuleNotFoundError",
     "evalue": "No module named 'mlxtend'",
     "output_type": "error",
     "traceback": [
      "\u001b[0;31m---------------------------------------------------------------------------\u001b[0m",
      "\u001b[0;31mModuleNotFoundError\u001b[0m                       Traceback (most recent call last)",
      "Cell \u001b[0;32mIn[2], line 7\u001b[0m\n\u001b[1;32m      3\u001b[0m \u001b[38;5;28;01mimport\u001b[39;00m \u001b[38;5;21;01mpandas\u001b[39;00m \u001b[38;5;28;01mas\u001b[39;00m \u001b[38;5;21;01mpd\u001b[39;00m\n\u001b[1;32m      5\u001b[0m \u001b[38;5;66;03m# For Association Rules Learning & Apriori \u001b[39;00m\n\u001b[1;32m      6\u001b[0m \u001b[38;5;66;03m# !pip install mlxtend\u001b[39;00m\n\u001b[0;32m----> 7\u001b[0m \u001b[38;5;28;01mfrom\u001b[39;00m \u001b[38;5;21;01mmlxtend\u001b[39;00m\u001b[38;5;21;01m.\u001b[39;00m\u001b[38;5;21;01mfrequent_patterns\u001b[39;00m \u001b[38;5;28;01mimport\u001b[39;00m apriori, association_rules\n\u001b[1;32m      9\u001b[0m \u001b[38;5;66;03m# Setting Configurations:\u001b[39;00m\n\u001b[1;32m     11\u001b[0m pd\u001b[38;5;241m.\u001b[39mset_option(\u001b[38;5;124m'\u001b[39m\u001b[38;5;124mdisplay.max_columns\u001b[39m\u001b[38;5;124m'\u001b[39m, \u001b[38;5;28;01mNone\u001b[39;00m)\n",
      "\u001b[0;31mModuleNotFoundError\u001b[0m: No module named 'mlxtend'"
     ]
    }
   ],
   "source": [
    "# Import Libraries\n",
    "\n",
    "import pandas as pd\n",
    "\n",
    "# For Association Rules Learning & Apriori \n",
    "# !pip install mlxtend\n",
    "from mlxtend.frequent_patterns import apriori, association_rules\n",
    "\n",
    "# Setting Configurations:\n",
    "\n",
    "pd.set_option('display.max_columns', None)\n",
    "pd.set_option('display.float_format', lambda x: '%.3f' % x)\n",
    "\n",
    "# Import Warnings:\n",
    "\n",
    "import warnings\n",
    "warnings.filterwarnings(\"ignore\")\n",
    "warnings.simplefilter(action='ignore', category=FutureWarning)\n",
    "warnings.simplefilter(action='ignore', category=DeprecationWarning)"
   ]
  },
  {
   "cell_type": "code",
   "execution_count": null,
   "id": "83e8f1cb",
   "metadata": {},
   "outputs": [],
   "source": []
  }
 ],
 "metadata": {
  "kernelspec": {
   "display_name": "Python 3 (ipykernel)",
   "language": "python",
   "name": "python3"
  },
  "language_info": {
   "codemirror_mode": {
    "name": "ipython",
    "version": 3
   },
   "file_extension": ".py",
   "mimetype": "text/x-python",
   "name": "python",
   "nbconvert_exporter": "python",
   "pygments_lexer": "ipython3",
   "version": "3.11.5"
  }
 },
 "nbformat": 4,
 "nbformat_minor": 5
}
