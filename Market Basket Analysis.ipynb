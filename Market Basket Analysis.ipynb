{
 "cells": [
  {
   "cell_type": "markdown",
   "id": "6301a314",
   "metadata": {},
   "source": [
    "# Market Basket Analysis with Apriori Algorithm"
   ]
  },
  {
   "cell_type": "markdown",
   "id": "457b1a6a",
   "metadata": {},
   "source": [
    "![pic](images/market_basket_analysis.jpg)"
   ]
  },
  {
   "cell_type": "markdown",
   "id": "580317f5",
   "metadata": {},
   "source": [
    "refer [here](https://www.kaggle.com/code/ozlemilgun/market-basket-analysis-with-apriori-algorithm)"
   ]
  },
  {
   "cell_type": "markdown",
   "id": "6b17372f",
   "metadata": {},
   "source": [
    "## Association Rule Learning (ARL)"
   ]
  },
  {
   "cell_type": "markdown",
   "id": "db0602bf",
   "metadata": {},
   "source": [
    "In today's world where the number of customers and transactions are increasing, it has become more valuable to create meaningful results from data and for developing marketing strategies. Revealing hidden patterns in the data in order to be able to compete better and maximize profit in the face of intense competition in the market, and to establish value-oriented long-term relationships with customers, makes a great contribution to determining marketing strategies.\n",
    "\n",
    "However, the development of rule-based strategies is no longer possible in big data world, offering the right product to the right customer at the right time; it forms the basis of cross-selling and loyalty programs within the scope of customer retention and increasing lifetime value. Therefore, it has been crucial point for companies making product offers by using these patterns of association and developing effective marketing strategies Market Basket analysis is one of the association rule applications. It allows us to predict the products that customers tend to buy in the future by developing a pattern from their past behavior and habits.\n",
    "\n",
    "There are different algorithms to be used for Association Rules Learning. One of them is the Apriori algorithm. In this project, product association analysis will be handled with **“Apriori Algorithm”** and the most suitable product offers will be made for the customer who is in the sales process, using the sales data of an e-commerce company."
   ]
  },
  {
   "cell_type": "markdown",
   "id": "4696e4b2",
   "metadata": {},
   "source": [
    "### Dataset Story:\n",
    "• The Online Retail II data set, which includes the sales data of the UK-based online sales store, was used.\n",
    "\n",
    "• Sales data between 01/12/2009 - 09/12/2011 are included in the data set.\n",
    "\n",
    "• The product catalog of this company includes souvenirs."
   ]
  },
  {
   "cell_type": "markdown",
   "id": "6f08a02e",
   "metadata": {},
   "source": [
    "### Business Problem:\n",
    "Suggesting products to users at the basket stage. In this study, we will apply Market Basket analysis using the Apriori algorithm. In this context, we will consider the work in 5 steps:\n",
    "\n",
    "1. Import Data & Data Preprocessing\n",
    "\n",
    "2. Preparing Invoice-Product Matrix fot ARL Data Structure\n",
    "\n",
    "3. Determination of Association Rules\n",
    "\n",
    "4. Suggesting appropriate product offers to customers at the basket stage\n",
    "\n",
    "5. Functionalization"
   ]
  },
  {
   "cell_type": "markdown",
   "id": "12d00356",
   "metadata": {},
   "source": [
    "### Variables Descriptions:\n",
    "• InvoiceNo: Invoice Number -> If this code starts with C, it means that the operation has been canceled.\n",
    "\n",
    "• StockCode: Product Code -> Unique number for each product\n",
    "\n",
    "• Description: Product name\n",
    "\n",
    "• Quantity: Number of products -> how many of the products on the invoices were sold.\n",
    "\n",
    "• InvoiceDate\n",
    "\n",
    "• UnitePrice\n",
    "\n",
    "• CustomerID: Unique customer number\n",
    "\n",
    "• Country"
   ]
  },
  {
   "cell_type": "code",
   "execution_count": 1,
   "id": "bab25be5",
   "metadata": {},
   "outputs": [],
   "source": [
    "# Import Libraries\n",
    "\n",
    "import pandas as pd\n",
    "\n",
    "# For Association Rules Learning & Apriori \n",
    "# !pip install mlxtend\n",
    "from mlxtend.frequent_patterns import apriori, association_rules\n",
    "\n",
    "# Setting Configurations:\n",
    "\n",
    "pd.set_option('display.max_columns', None)\n",
    "pd.set_option('display.float_format', lambda x: '%.3f' % x)\n",
    "\n",
    "# Import Warnings:\n",
    "\n",
    "import warnings\n",
    "warnings.filterwarnings(\"ignore\")\n",
    "warnings.simplefilter(action='ignore', category=FutureWarning)\n",
    "warnings.simplefilter(action='ignore', category=DeprecationWarning)"
   ]
  },
  {
   "cell_type": "markdown",
   "id": "c03a53c1",
   "metadata": {},
   "source": [
    "**1. Import Data & Data Preprocessing**"
   ]
  },
  {
   "cell_type": "code",
   "execution_count": 3,
   "id": "c30cf877",
   "metadata": {},
   "outputs": [
    {
     "data": {
      "text/html": [
       "<div>\n",
       "<style scoped>\n",
       "    .dataframe tbody tr th:only-of-type {\n",
       "        vertical-align: middle;\n",
       "    }\n",
       "\n",
       "    .dataframe tbody tr th {\n",
       "        vertical-align: top;\n",
       "    }\n",
       "\n",
       "    .dataframe thead th {\n",
       "        text-align: right;\n",
       "    }\n",
       "</style>\n",
       "<table border=\"1\" class=\"dataframe\">\n",
       "  <thead>\n",
       "    <tr style=\"text-align: right;\">\n",
       "      <th></th>\n",
       "      <th>Invoice</th>\n",
       "      <th>StockCode</th>\n",
       "      <th>Description</th>\n",
       "      <th>Quantity</th>\n",
       "      <th>InvoiceDate</th>\n",
       "      <th>Price</th>\n",
       "      <th>Customer ID</th>\n",
       "      <th>Country</th>\n",
       "    </tr>\n",
       "  </thead>\n",
       "  <tbody>\n",
       "    <tr>\n",
       "      <th>0</th>\n",
       "      <td>536365</td>\n",
       "      <td>85123A</td>\n",
       "      <td>WHITE HANGING HEART T-LIGHT HOLDER</td>\n",
       "      <td>6</td>\n",
       "      <td>2010-12-01 08:26:00</td>\n",
       "      <td>2.550</td>\n",
       "      <td>17850.000</td>\n",
       "      <td>United Kingdom</td>\n",
       "    </tr>\n",
       "    <tr>\n",
       "      <th>1</th>\n",
       "      <td>536365</td>\n",
       "      <td>71053</td>\n",
       "      <td>WHITE METAL LANTERN</td>\n",
       "      <td>6</td>\n",
       "      <td>2010-12-01 08:26:00</td>\n",
       "      <td>3.390</td>\n",
       "      <td>17850.000</td>\n",
       "      <td>United Kingdom</td>\n",
       "    </tr>\n",
       "    <tr>\n",
       "      <th>2</th>\n",
       "      <td>536365</td>\n",
       "      <td>84406B</td>\n",
       "      <td>CREAM CUPID HEARTS COAT HANGER</td>\n",
       "      <td>8</td>\n",
       "      <td>2010-12-01 08:26:00</td>\n",
       "      <td>2.750</td>\n",
       "      <td>17850.000</td>\n",
       "      <td>United Kingdom</td>\n",
       "    </tr>\n",
       "    <tr>\n",
       "      <th>3</th>\n",
       "      <td>536365</td>\n",
       "      <td>84029G</td>\n",
       "      <td>KNITTED UNION FLAG HOT WATER BOTTLE</td>\n",
       "      <td>6</td>\n",
       "      <td>2010-12-01 08:26:00</td>\n",
       "      <td>3.390</td>\n",
       "      <td>17850.000</td>\n",
       "      <td>United Kingdom</td>\n",
       "    </tr>\n",
       "    <tr>\n",
       "      <th>4</th>\n",
       "      <td>536365</td>\n",
       "      <td>84029E</td>\n",
       "      <td>RED WOOLLY HOTTIE WHITE HEART.</td>\n",
       "      <td>6</td>\n",
       "      <td>2010-12-01 08:26:00</td>\n",
       "      <td>3.390</td>\n",
       "      <td>17850.000</td>\n",
       "      <td>United Kingdom</td>\n",
       "    </tr>\n",
       "  </tbody>\n",
       "</table>\n",
       "</div>"
      ],
      "text/plain": [
       "  Invoice StockCode                          Description  Quantity  \\\n",
       "0  536365    85123A   WHITE HANGING HEART T-LIGHT HOLDER         6   \n",
       "1  536365     71053                  WHITE METAL LANTERN         6   \n",
       "2  536365    84406B       CREAM CUPID HEARTS COAT HANGER         8   \n",
       "3  536365    84029G  KNITTED UNION FLAG HOT WATER BOTTLE         6   \n",
       "4  536365    84029E       RED WOOLLY HOTTIE WHITE HEART.         6   \n",
       "\n",
       "          InvoiceDate  Price  Customer ID         Country  \n",
       "0 2010-12-01 08:26:00  2.550    17850.000  United Kingdom  \n",
       "1 2010-12-01 08:26:00  3.390    17850.000  United Kingdom  \n",
       "2 2010-12-01 08:26:00  2.750    17850.000  United Kingdom  \n",
       "3 2010-12-01 08:26:00  3.390    17850.000  United Kingdom  \n",
       "4 2010-12-01 08:26:00  3.390    17850.000  United Kingdom  "
      ]
     },
     "execution_count": 3,
     "metadata": {},
     "output_type": "execute_result"
    }
   ],
   "source": [
    "df_ = pd.read_excel('data/online_retail_II.xlsx', \n",
    "                    sheet_name='Year 2010-2011')\n",
    "df = df_.copy()\n",
    "\n",
    "df.head()"
   ]
  },
  {
   "cell_type": "code",
   "execution_count": 4,
   "id": "9681e165",
   "metadata": {
    "scrolled": true
   },
   "outputs": [
    {
     "name": "stdout",
     "output_type": "stream",
     "text": [
      "<class 'pandas.core.frame.DataFrame'>\n",
      "RangeIndex: 541910 entries, 0 to 541909\n",
      "Data columns (total 8 columns):\n",
      " #   Column       Non-Null Count   Dtype         \n",
      "---  ------       --------------   -----         \n",
      " 0   Invoice      541910 non-null  object        \n",
      " 1   StockCode    541910 non-null  object        \n",
      " 2   Description  540456 non-null  object        \n",
      " 3   Quantity     541910 non-null  int64         \n",
      " 4   InvoiceDate  541910 non-null  datetime64[ns]\n",
      " 5   Price        541910 non-null  float64       \n",
      " 6   Customer ID  406830 non-null  float64       \n",
      " 7   Country      541910 non-null  object        \n",
      "dtypes: datetime64[ns](1), float64(2), int64(1), object(4)\n",
      "memory usage: 33.1+ MB\n"
     ]
    }
   ],
   "source": [
    "df.info()"
   ]
  },
  {
   "cell_type": "code",
   "execution_count": 5,
   "id": "5765b935",
   "metadata": {},
   "outputs": [
    {
     "data": {
      "text/plain": [
       "Invoice             0\n",
       "StockCode           0\n",
       "Description      1454\n",
       "Quantity            0\n",
       "InvoiceDate         0\n",
       "Price               0\n",
       "Customer ID    135080\n",
       "Country             0\n",
       "dtype: int64"
      ]
     },
     "execution_count": 5,
     "metadata": {},
     "output_type": "execute_result"
    }
   ],
   "source": [
    "# Count the null values \n",
    "df.isna().sum()"
   ]
  },
  {
   "cell_type": "code",
   "execution_count": 6,
   "id": "43d7f722",
   "metadata": {},
   "outputs": [],
   "source": [
    "# remove all the rows with null values \n",
    "df.dropna(inplace=True)"
   ]
  },
  {
   "cell_type": "code",
   "execution_count": 7,
   "id": "ce809dd0",
   "metadata": {},
   "outputs": [
    {
     "data": {
      "text/plain": [
       "(406830, 8)"
      ]
     },
     "execution_count": 7,
     "metadata": {},
     "output_type": "execute_result"
    }
   ],
   "source": [
    "# How many rows are left \n",
    "df.shape"
   ]
  },
  {
   "cell_type": "code",
   "execution_count": 8,
   "id": "b850e05d",
   "metadata": {},
   "outputs": [
    {
     "data": {
      "text/html": [
       "<div>\n",
       "<style scoped>\n",
       "    .dataframe tbody tr th:only-of-type {\n",
       "        vertical-align: middle;\n",
       "    }\n",
       "\n",
       "    .dataframe tbody tr th {\n",
       "        vertical-align: top;\n",
       "    }\n",
       "\n",
       "    .dataframe thead th {\n",
       "        text-align: right;\n",
       "    }\n",
       "</style>\n",
       "<table border=\"1\" class=\"dataframe\">\n",
       "  <thead>\n",
       "    <tr style=\"text-align: right;\">\n",
       "      <th></th>\n",
       "      <th>count</th>\n",
       "      <th>mean</th>\n",
       "      <th>min</th>\n",
       "      <th>25%</th>\n",
       "      <th>50%</th>\n",
       "      <th>75%</th>\n",
       "      <th>max</th>\n",
       "      <th>std</th>\n",
       "    </tr>\n",
       "  </thead>\n",
       "  <tbody>\n",
       "    <tr>\n",
       "      <th>Quantity</th>\n",
       "      <td>406830.000</td>\n",
       "      <td>12.061</td>\n",
       "      <td>-80995.000</td>\n",
       "      <td>2.000</td>\n",
       "      <td>5.000</td>\n",
       "      <td>12.000</td>\n",
       "      <td>80995.000</td>\n",
       "      <td>248.693</td>\n",
       "    </tr>\n",
       "    <tr>\n",
       "      <th>InvoiceDate</th>\n",
       "      <td>406830</td>\n",
       "      <td>2011-07-10 16:31:30.127424512</td>\n",
       "      <td>2010-12-01 08:26:00</td>\n",
       "      <td>2011-04-06 15:02:00</td>\n",
       "      <td>2011-07-31 11:48:00</td>\n",
       "      <td>2011-10-20 13:06:00</td>\n",
       "      <td>2011-12-09 12:50:00</td>\n",
       "      <td>NaN</td>\n",
       "    </tr>\n",
       "    <tr>\n",
       "      <th>Price</th>\n",
       "      <td>406830.000</td>\n",
       "      <td>3.461</td>\n",
       "      <td>0.000</td>\n",
       "      <td>1.250</td>\n",
       "      <td>1.950</td>\n",
       "      <td>3.750</td>\n",
       "      <td>38970.000</td>\n",
       "      <td>69.315</td>\n",
       "    </tr>\n",
       "    <tr>\n",
       "      <th>Customer ID</th>\n",
       "      <td>406830.000</td>\n",
       "      <td>15287.684</td>\n",
       "      <td>12346.000</td>\n",
       "      <td>13953.000</td>\n",
       "      <td>15152.000</td>\n",
       "      <td>16791.000</td>\n",
       "      <td>18287.000</td>\n",
       "      <td>1713.603</td>\n",
       "    </tr>\n",
       "  </tbody>\n",
       "</table>\n",
       "</div>"
      ],
      "text/plain": [
       "                 count                           mean                  min  \\\n",
       "Quantity    406830.000                         12.061           -80995.000   \n",
       "InvoiceDate     406830  2011-07-10 16:31:30.127424512  2010-12-01 08:26:00   \n",
       "Price       406830.000                          3.461                0.000   \n",
       "Customer ID 406830.000                      15287.684            12346.000   \n",
       "\n",
       "                             25%                  50%                  75%  \\\n",
       "Quantity                   2.000                5.000               12.000   \n",
       "InvoiceDate  2011-04-06 15:02:00  2011-07-31 11:48:00  2011-10-20 13:06:00   \n",
       "Price                      1.250                1.950                3.750   \n",
       "Customer ID            13953.000            15152.000            16791.000   \n",
       "\n",
       "                             max      std  \n",
       "Quantity               80995.000  248.693  \n",
       "InvoiceDate  2011-12-09 12:50:00      NaN  \n",
       "Price                  38970.000   69.315  \n",
       "Customer ID            18287.000 1713.603  "
      ]
     },
     "execution_count": 8,
     "metadata": {},
     "output_type": "execute_result"
    }
   ],
   "source": [
    "df.describe().T"
   ]
  },
  {
   "cell_type": "code",
   "execution_count": 9,
   "id": "2b0231c7",
   "metadata": {},
   "outputs": [],
   "source": [
    "# Let's first determine cancelled transactions (Invoice Id contains value \"C\") and then remove them:\n",
    "\n",
    "df_Invoice = pd.DataFrame({\"Invoice\":[row for row in df[\"Invoice\"].values if \"C\"  not in str(row)]})\n",
    "df_Invoice.head()\n",
    "df_Invoice = df_Invoice.drop_duplicates(\"Invoice\")"
   ]
  },
  {
   "cell_type": "code",
   "execution_count": 10,
   "id": "d28221cf",
   "metadata": {},
   "outputs": [],
   "source": [
    "# The transactions except cancelled transactions:\n",
    "df = df.merge(df_Invoice, on = \"Invoice\")"
   ]
  },
  {
   "cell_type": "code",
   "execution_count": 11,
   "id": "634f4701",
   "metadata": {},
   "outputs": [],
   "source": [
    "# Outlier Detection:\n",
    "\n",
    "\n",
    "# Outlier değerler için baskılama yapılacak low ve up limit belirleyelim:\n",
    "def outlier_thresholds(dataframe, variable):\n",
    "    quartile1 = dataframe[variable].quantile(0.01)\n",
    "    quartile3 = dataframe[variable].quantile(0.99)\n",
    "    interquantile_range = quartile3 - quartile1\n",
    "    up_limit = quartile3 + 1.5 * interquantile_range\n",
    "    low_limit = quartile1 - 1.5 * interquantile_range\n",
    "    return low_limit, up_limit\n",
    "\n",
    "\n",
    "# Replace outliers with thresholds\n",
    "def replace_with_thresholds(dataframe, variable):\n",
    "    low_limit, up_limit = outlier_thresholds(dataframe, variable)\n",
    "    dataframe.loc[(dataframe[variable] < low_limit), variable] = low_limit\n",
    "    dataframe.loc[(dataframe[variable] > up_limit), variable] = up_limit\n",
    "  "
   ]
  },
  {
   "cell_type": "code",
   "execution_count": 12,
   "id": "cd9007ed",
   "metadata": {},
   "outputs": [
    {
     "data": {
      "text/plain": [
       "Invoice                object\n",
       "StockCode              object\n",
       "Description            object\n",
       "Quantity                int64\n",
       "InvoiceDate    datetime64[ns]\n",
       "Price                 float64\n",
       "Customer ID           float64\n",
       "Country                object\n",
       "dtype: object"
      ]
     },
     "execution_count": 12,
     "metadata": {},
     "output_type": "execute_result"
    }
   ],
   "source": [
    "df.dtypes"
   ]
  },
  {
   "cell_type": "code",
   "execution_count": 13,
   "id": "5391f554",
   "metadata": {},
   "outputs": [
    {
     "name": "stdout",
     "output_type": "stream",
     "text": [
      "['Quantity', 'Price']\n"
     ]
    }
   ],
   "source": [
    "num_cols = [col for col in df.columns if df[col].dtypes in [\"int64\",\"float64\"] and \"ID\" not in col]\n",
    "\n",
    "print(num_cols)"
   ]
  },
  {
   "cell_type": "code",
   "execution_count": 14,
   "id": "59225b08",
   "metadata": {},
   "outputs": [],
   "source": [
    "for col in num_cols:\n",
    "    replace_with_thresholds(df, col)"
   ]
  },
  {
   "cell_type": "code",
   "execution_count": 15,
   "id": "9b16d9df",
   "metadata": {},
   "outputs": [
    {
     "data": {
      "text/html": [
       "<div>\n",
       "<style scoped>\n",
       "    .dataframe tbody tr th:only-of-type {\n",
       "        vertical-align: middle;\n",
       "    }\n",
       "\n",
       "    .dataframe tbody tr th {\n",
       "        vertical-align: top;\n",
       "    }\n",
       "\n",
       "    .dataframe thead th {\n",
       "        text-align: right;\n",
       "    }\n",
       "</style>\n",
       "<table border=\"1\" class=\"dataframe\">\n",
       "  <thead>\n",
       "    <tr style=\"text-align: right;\">\n",
       "      <th></th>\n",
       "      <th>count</th>\n",
       "      <th>mean</th>\n",
       "      <th>min</th>\n",
       "      <th>25%</th>\n",
       "      <th>50%</th>\n",
       "      <th>75%</th>\n",
       "      <th>max</th>\n",
       "      <th>std</th>\n",
       "    </tr>\n",
       "  </thead>\n",
       "  <tbody>\n",
       "    <tr>\n",
       "      <th>Quantity</th>\n",
       "      <td>397925.000</td>\n",
       "      <td>11.834</td>\n",
       "      <td>1.000</td>\n",
       "      <td>2.000</td>\n",
       "      <td>6.000</td>\n",
       "      <td>12.000</td>\n",
       "      <td>298.500</td>\n",
       "      <td>25.534</td>\n",
       "    </tr>\n",
       "    <tr>\n",
       "      <th>InvoiceDate</th>\n",
       "      <td>397925</td>\n",
       "      <td>2011-07-10 23:44:09.817126400</td>\n",
       "      <td>2010-12-01 08:26:00</td>\n",
       "      <td>2011-04-07 11:12:00</td>\n",
       "      <td>2011-07-31 14:39:00</td>\n",
       "      <td>2011-10-20 14:33:00</td>\n",
       "      <td>2011-12-09 12:50:00</td>\n",
       "      <td>NaN</td>\n",
       "    </tr>\n",
       "    <tr>\n",
       "      <th>Price</th>\n",
       "      <td>397925.000</td>\n",
       "      <td>2.893</td>\n",
       "      <td>0.000</td>\n",
       "      <td>1.250</td>\n",
       "      <td>1.950</td>\n",
       "      <td>3.750</td>\n",
       "      <td>37.060</td>\n",
       "      <td>3.227</td>\n",
       "    </tr>\n",
       "    <tr>\n",
       "      <th>Customer ID</th>\n",
       "      <td>397925.000</td>\n",
       "      <td>15294.309</td>\n",
       "      <td>12346.000</td>\n",
       "      <td>13969.000</td>\n",
       "      <td>15159.000</td>\n",
       "      <td>16795.000</td>\n",
       "      <td>18287.000</td>\n",
       "      <td>1713.173</td>\n",
       "    </tr>\n",
       "  </tbody>\n",
       "</table>\n",
       "</div>"
      ],
      "text/plain": [
       "                 count                           mean                  min  \\\n",
       "Quantity    397925.000                         11.834                1.000   \n",
       "InvoiceDate     397925  2011-07-10 23:44:09.817126400  2010-12-01 08:26:00   \n",
       "Price       397925.000                          2.893                0.000   \n",
       "Customer ID 397925.000                      15294.309            12346.000   \n",
       "\n",
       "                             25%                  50%                  75%  \\\n",
       "Quantity                   2.000                6.000               12.000   \n",
       "InvoiceDate  2011-04-07 11:12:00  2011-07-31 14:39:00  2011-10-20 14:33:00   \n",
       "Price                      1.250                1.950                3.750   \n",
       "Customer ID            13969.000            15159.000            16795.000   \n",
       "\n",
       "                             max      std  \n",
       "Quantity                 298.500   25.534  \n",
       "InvoiceDate  2011-12-09 12:50:00      NaN  \n",
       "Price                     37.060    3.227  \n",
       "Customer ID            18287.000 1713.173  "
      ]
     },
     "execution_count": 15,
     "metadata": {},
     "output_type": "execute_result"
    }
   ],
   "source": [
    "df.describe().T"
   ]
  },
  {
   "cell_type": "code",
   "execution_count": 16,
   "id": "e3dcb3c6",
   "metadata": {},
   "outputs": [],
   "source": [
    "df = df[df[\"Quantity\"] > 0]\n",
    "df = df[df[\"Price\"] > 0]"
   ]
  },
  {
   "cell_type": "code",
   "execution_count": 17,
   "id": "964d3a20",
   "metadata": {},
   "outputs": [
    {
     "data": {
      "text/plain": [
       "3877"
      ]
     },
     "execution_count": 17,
     "metadata": {},
     "output_type": "execute_result"
    }
   ],
   "source": [
    "# Unique Number of Products (with Description)\n",
    "\n",
    "df.Description.nunique()"
   ]
  },
  {
   "cell_type": "code",
   "execution_count": 18,
   "id": "47290e9b",
   "metadata": {},
   "outputs": [
    {
     "data": {
      "text/plain": [
       "3665"
      ]
     },
     "execution_count": 18,
     "metadata": {},
     "output_type": "execute_result"
    }
   ],
   "source": [
    "# Unique Number of Products (with StockCode)\n",
    "\n",
    "df.StockCode.nunique()"
   ]
  },
  {
   "cell_type": "code",
   "execution_count": null,
   "id": "7f51086a",
   "metadata": {},
   "outputs": [],
   "source": []
  }
 ],
 "metadata": {
  "kernelspec": {
   "display_name": "Python 3 (ipykernel)",
   "language": "python",
   "name": "python3"
  },
  "language_info": {
   "codemirror_mode": {
    "name": "ipython",
    "version": 3
   },
   "file_extension": ".py",
   "mimetype": "text/x-python",
   "name": "python",
   "nbconvert_exporter": "python",
   "pygments_lexer": "ipython3",
   "version": "3.11.5"
  }
 },
 "nbformat": 4,
 "nbformat_minor": 5
}
